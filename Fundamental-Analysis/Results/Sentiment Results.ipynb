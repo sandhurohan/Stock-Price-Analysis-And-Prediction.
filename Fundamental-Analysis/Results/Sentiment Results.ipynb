{
 "cells": [
  {
   "cell_type": "markdown",
   "id": "d661ddf7",
   "metadata": {},
   "source": [
    "# Finding Sentiment Scores From CSV\n"
   ]
  },
  {
   "cell_type": "code",
   "execution_count": null,
   "id": "06b9e84a",
   "metadata": {},
   "outputs": [],
   "source": []
  },
  {
   "cell_type": "code",
   "execution_count": 4,
   "id": "5574e5a8",
   "metadata": {},
   "outputs": [],
   "source": [
    "# Importing Necessary Libraries\n",
    "import pandas as pd\n"
   ]
  },
  {
   "cell_type": "code",
   "execution_count": null,
   "id": "3e371588",
   "metadata": {},
   "outputs": [],
   "source": []
  },
  {
   "cell_type": "code",
   "execution_count": 5,
   "id": "1a22d60f",
   "metadata": {},
   "outputs": [],
   "source": [
    "# --> Creating a list that Contains CSV names for Finding Sentiment Scores\n",
    "csv_names = ('tcs_result.csv', 'hdfc_result.csv', 'infosys_result.csv', 'kotak_result.csv', 'hindustan_uniliver_result.csv', 'icici_result.csv', 'reliance_result.csv')\n"
   ]
  },
  {
   "cell_type": "code",
   "execution_count": null,
   "id": "1ba56516",
   "metadata": {},
   "outputs": [],
   "source": []
  },
  {
   "cell_type": "code",
   "execution_count": 7,
   "id": "ad3f9eab",
   "metadata": {},
   "outputs": [
    {
     "data": {
      "text/plain": [
       "[['tcs', 0.036242211109984136, '3.62'],\n",
       " ['hdfc', -0.21461649265289504, '-21.46'],\n",
       " ['infosys', 0.04067840162001924, '4.07'],\n",
       " ['kotak', -0.02718826656234523, '-2.72'],\n",
       " ['hindustan', 0.06250215212195609, '6.25'],\n",
       " ['icici', 0.03973166376168527, '3.97'],\n",
       " ['reliance', 0.026897652823597646, '2.69']]"
      ]
     },
     "execution_count": 7,
     "metadata": {},
     "output_type": "execute_result"
    }
   ],
   "source": [
    "# Looping Through CSV's to find sentiment scores per Company & appending it to List\n",
    "\n",
    "sentiment_scores = []\n",
    "for csv in csv_names:\n",
    "    # Reading CSV Using Pandas\n",
    "    df = pd.read_csv(r'{}'.format(csv)) \n",
    "    sentiment_score = df[['sentiment_score']].mean()['sentiment_score']\n",
    "    company_name = csv.split('_')[0]\n",
    "    sentiment_score_percentage = \"%.2f\" % float(sentiment_score * 100)\n",
    "    sentiment_scores.append([company_name,sentiment_score, sentiment_score_percentage])\n",
    "    \n",
    "sentiment_scores"
   ]
  },
  {
   "cell_type": "code",
   "execution_count": 9,
   "id": "6544b283",
   "metadata": {},
   "outputs": [
    {
     "name": "stderr",
     "output_type": "stream",
     "text": [
      "/var/folders/48/rl7zp3j908d304x4209n_knh0000gn/T/ipykernel_82769/56597618.py:5: FutureWarning: DataFrame.set_axis 'inplace' keyword is deprecated and will be removed in a future version. Use `obj = obj.set_axis(..., copy=False)` instead\n",
      "  result_df.set_axis(columns, axis=1, inplace=True)\n"
     ]
    },
    {
     "data": {
      "text/html": [
       "<div>\n",
       "<style scoped>\n",
       "    .dataframe tbody tr th:only-of-type {\n",
       "        vertical-align: middle;\n",
       "    }\n",
       "\n",
       "    .dataframe tbody tr th {\n",
       "        vertical-align: top;\n",
       "    }\n",
       "\n",
       "    .dataframe thead th {\n",
       "        text-align: right;\n",
       "    }\n",
       "</style>\n",
       "<table border=\"1\" class=\"dataframe\">\n",
       "  <thead>\n",
       "    <tr style=\"text-align: right;\">\n",
       "      <th></th>\n",
       "      <th>Company</th>\n",
       "      <th>Sentiment_Score</th>\n",
       "      <th>Sentiment Score (%)</th>\n",
       "    </tr>\n",
       "  </thead>\n",
       "  <tbody>\n",
       "    <tr>\n",
       "      <th>0</th>\n",
       "      <td>tcs</td>\n",
       "      <td>0.036242</td>\n",
       "      <td>3.62</td>\n",
       "    </tr>\n",
       "    <tr>\n",
       "      <th>1</th>\n",
       "      <td>hdfc</td>\n",
       "      <td>-0.214616</td>\n",
       "      <td>-21.46</td>\n",
       "    </tr>\n",
       "    <tr>\n",
       "      <th>2</th>\n",
       "      <td>infosys</td>\n",
       "      <td>0.040678</td>\n",
       "      <td>4.07</td>\n",
       "    </tr>\n",
       "    <tr>\n",
       "      <th>3</th>\n",
       "      <td>kotak</td>\n",
       "      <td>-0.027188</td>\n",
       "      <td>-2.72</td>\n",
       "    </tr>\n",
       "    <tr>\n",
       "      <th>4</th>\n",
       "      <td>hindustan</td>\n",
       "      <td>0.062502</td>\n",
       "      <td>6.25</td>\n",
       "    </tr>\n",
       "    <tr>\n",
       "      <th>5</th>\n",
       "      <td>icici</td>\n",
       "      <td>0.039732</td>\n",
       "      <td>3.97</td>\n",
       "    </tr>\n",
       "    <tr>\n",
       "      <th>6</th>\n",
       "      <td>reliance</td>\n",
       "      <td>0.026898</td>\n",
       "      <td>2.69</td>\n",
       "    </tr>\n",
       "  </tbody>\n",
       "</table>\n",
       "</div>"
      ],
      "text/plain": [
       "     Company  Sentiment_Score Sentiment Score (%)\n",
       "0        tcs         0.036242                3.62\n",
       "1       hdfc        -0.214616              -21.46\n",
       "2    infosys         0.040678                4.07\n",
       "3      kotak        -0.027188               -2.72\n",
       "4  hindustan         0.062502                6.25\n",
       "5      icici         0.039732                3.97\n",
       "6   reliance         0.026898                2.69"
      ]
     },
     "execution_count": 9,
     "metadata": {},
     "output_type": "execute_result"
    }
   ],
   "source": [
    "# Creating DataFrame from List\n",
    "\n",
    "result_df = pd.DataFrame(sentiment_scores)\n",
    "columns = ['Company','Sentiment_Score', 'Sentiment Score (%)']\n",
    "result_df.set_axis(columns, axis=1, inplace=True)\n",
    "result_df"
   ]
  },
  {
   "cell_type": "code",
   "execution_count": null,
   "id": "5657e8aa",
   "metadata": {},
   "outputs": [],
   "source": [
    "df.to_csv(r'sentiment_scores.csv')"
   ]
  }
 ],
 "metadata": {
  "kernelspec": {
   "display_name": "Python 3 (ipykernel)",
   "language": "python",
   "name": "python3"
  },
  "language_info": {
   "codemirror_mode": {
    "name": "ipython",
    "version": 3
   },
   "file_extension": ".py",
   "mimetype": "text/x-python",
   "name": "python",
   "nbconvert_exporter": "python",
   "pygments_lexer": "ipython3",
   "version": "3.11.1"
  }
 },
 "nbformat": 4,
 "nbformat_minor": 5
}
