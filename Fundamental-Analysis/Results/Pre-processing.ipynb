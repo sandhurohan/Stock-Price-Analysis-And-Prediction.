{
 "cells": [
  {
   "cell_type": "markdown",
   "metadata": {},
   "source": [
    "# Data  Pre-Processing for Better Results"
   ]
  },
  {
   "cell_type": "code",
   "execution_count": 1,
   "metadata": {},
   "outputs": [
    {
     "name": "stdout",
     "output_type": "stream",
     "text": [
      "Requirement already satisfied: numpy in /Library/Frameworks/Python.framework/Versions/3.7/lib/python3.7/site-packages (1.21.6)\n",
      "\n",
      "\u001b[1m[\u001b[0m\u001b[34;49mnotice\u001b[0m\u001b[1;39;49m]\u001b[0m\u001b[39;49m A new release of pip is available: \u001b[0m\u001b[31;49m23.0.1\u001b[0m\u001b[39;49m -> \u001b[0m\u001b[32;49m23.1.2\u001b[0m\n",
      "\u001b[1m[\u001b[0m\u001b[34;49mnotice\u001b[0m\u001b[1;39;49m]\u001b[0m\u001b[39;49m To update, run: \u001b[0m\u001b[32;49mpip install --upgrade pip\u001b[0m\n",
      "Requirement already satisfied: pandas in /Library/Frameworks/Python.framework/Versions/3.7/lib/python3.7/site-packages (1.3.5)\n",
      "Requirement already satisfied: python-dateutil>=2.7.3 in /Library/Frameworks/Python.framework/Versions/3.7/lib/python3.7/site-packages (from pandas) (2.8.2)\n",
      "Requirement already satisfied: pytz>=2017.3 in /Library/Frameworks/Python.framework/Versions/3.7/lib/python3.7/site-packages (from pandas) (2023.3)\n",
      "Requirement already satisfied: numpy>=1.17.3 in /Library/Frameworks/Python.framework/Versions/3.7/lib/python3.7/site-packages (from pandas) (1.21.6)\n",
      "Requirement already satisfied: six>=1.5 in /Library/Frameworks/Python.framework/Versions/3.7/lib/python3.7/site-packages (from python-dateutil>=2.7.3->pandas) (1.16.0)\n",
      "\n",
      "\u001b[1m[\u001b[0m\u001b[34;49mnotice\u001b[0m\u001b[1;39;49m]\u001b[0m\u001b[39;49m A new release of pip is available: \u001b[0m\u001b[31;49m23.0.1\u001b[0m\u001b[39;49m -> \u001b[0m\u001b[32;49m23.1.2\u001b[0m\n",
      "\u001b[1m[\u001b[0m\u001b[34;49mnotice\u001b[0m\u001b[1;39;49m]\u001b[0m\u001b[39;49m To update, run: \u001b[0m\u001b[32;49mpip install --upgrade pip\u001b[0m\n",
      "Requirement already satisfied: textblob in /Library/Frameworks/Python.framework/Versions/3.7/lib/python3.7/site-packages (0.17.1)\n",
      "Requirement already satisfied: nltk>=3.1 in /Library/Frameworks/Python.framework/Versions/3.7/lib/python3.7/site-packages (from textblob) (3.8.1)\n",
      "Requirement already satisfied: tqdm in /Library/Frameworks/Python.framework/Versions/3.7/lib/python3.7/site-packages (from nltk>=3.1->textblob) (4.65.0)\n",
      "Requirement already satisfied: click in /Library/Frameworks/Python.framework/Versions/3.7/lib/python3.7/site-packages (from nltk>=3.1->textblob) (8.1.3)\n",
      "Requirement already satisfied: regex>=2021.8.3 in /Library/Frameworks/Python.framework/Versions/3.7/lib/python3.7/site-packages (from nltk>=3.1->textblob) (2023.5.5)\n",
      "Requirement already satisfied: joblib in /Library/Frameworks/Python.framework/Versions/3.7/lib/python3.7/site-packages (from nltk>=3.1->textblob) (1.2.0)\n",
      "Requirement already satisfied: importlib-metadata in /Library/Frameworks/Python.framework/Versions/3.7/lib/python3.7/site-packages (from click->nltk>=3.1->textblob) (6.6.0)\n",
      "Requirement already satisfied: zipp>=0.5 in /Library/Frameworks/Python.framework/Versions/3.7/lib/python3.7/site-packages (from importlib-metadata->click->nltk>=3.1->textblob) (3.15.0)\n",
      "Requirement already satisfied: typing-extensions>=3.6.4 in /Library/Frameworks/Python.framework/Versions/3.7/lib/python3.7/site-packages (from importlib-metadata->click->nltk>=3.1->textblob) (4.5.0)\n",
      "\n",
      "\u001b[1m[\u001b[0m\u001b[34;49mnotice\u001b[0m\u001b[1;39;49m]\u001b[0m\u001b[39;49m A new release of pip is available: \u001b[0m\u001b[31;49m23.0.1\u001b[0m\u001b[39;49m -> \u001b[0m\u001b[32;49m23.1.2\u001b[0m\n",
      "\u001b[1m[\u001b[0m\u001b[34;49mnotice\u001b[0m\u001b[1;39;49m]\u001b[0m\u001b[39;49m To update, run: \u001b[0m\u001b[32;49mpip install --upgrade pip\u001b[0m\n"
     ]
    }
   ],
   "source": [
    "# --> Installing Required Libraries\n",
    "!pip install numpy\n",
    "!pip install pandas\n",
    "!pip install textblob"
   ]
  },
  {
   "cell_type": "code",
   "execution_count": null,
   "metadata": {},
   "outputs": [],
   "source": []
  },
  {
   "cell_type": "code",
   "execution_count": 1,
   "metadata": {},
   "outputs": [],
   "source": [
    "# --> Importing Necessary Libraries\n",
    "\n",
    "import re\n",
    "import pandas as pd \n",
    "import numpy as np\n",
    "from textblob import TextBlob"
   ]
  },
  {
   "cell_type": "code",
   "execution_count": null,
   "metadata": {},
   "outputs": [],
   "source": []
  },
  {
   "cell_type": "code",
   "execution_count": 2,
   "metadata": {},
   "outputs": [],
   "source": [
    "# --> Creating a list that Contains CSV names for Preprocessing\n",
    "csv_names = ('tcs.csv', 'hdfc.csv', 'infosys.csv', 'kotak.csv', 'hindustan_uniliver.csv', 'icici.csv', 'reliance.csv')\n"
   ]
  },
  {
   "cell_type": "code",
   "execution_count": null,
   "metadata": {},
   "outputs": [],
   "source": []
  },
  {
   "cell_type": "code",
   "execution_count": 3,
   "metadata": {},
   "outputs": [],
   "source": [
    "# --> Function to Remove Particular Pattern\n",
    "\n",
    "def remove_pattern(input_txt, pattern):\n",
    "    r = re.findall(pattern, input_txt)\n",
    "    for i in r:\n",
    "        input_txt = re.sub(i, '', input_txt)\n",
    "        \n",
    "    return input_txt"
   ]
  },
  {
   "cell_type": "code",
   "execution_count": 4,
   "metadata": {},
   "outputs": [
    {
     "name": "stderr",
     "output_type": "stream",
     "text": [
      "/var/folders/48/rl7zp3j908d304x4209n_knh0000gn/T/ipykernel_15386/1588186983.py:11: FutureWarning: DataFrame.set_axis 'inplace' keyword is deprecated and will be removed in a future version. Use `obj = obj.set_axis(..., copy=False)` instead\n",
      "  df.set_axis(columns, axis=1, inplace=True)\n",
      "/var/folders/48/rl7zp3j908d304x4209n_knh0000gn/T/ipykernel_15386/1588186983.py:16: FutureWarning: The default value of regex will change from True to False in a future version.\n",
      "  df['clean_tweet'] = df['clean_tweet'].str.replace(\"[#]\", \" \")\n",
      "/var/folders/48/rl7zp3j908d304x4209n_knh0000gn/T/ipykernel_15386/1588186983.py:17: FutureWarning: The default value of regex will change from True to False in a future version.\n",
      "  df['clean_tweet'] = df['clean_tweet'].str.replace(\"[^a-zA-Z#]\", \" \")\n",
      "/var/folders/48/rl7zp3j908d304x4209n_knh0000gn/T/ipykernel_15386/1588186983.py:18: FutureWarning: The default value of regex will change from True to False in a future version.\n",
      "  df['clean_tweet'] = df['clean_tweet'].str.replace(\"[https?:\\/\\/.*[\\r\\n]*]\", \" \")\n",
      "/var/folders/48/rl7zp3j908d304x4209n_knh0000gn/T/ipykernel_15386/1588186983.py:11: FutureWarning: DataFrame.set_axis 'inplace' keyword is deprecated and will be removed in a future version. Use `obj = obj.set_axis(..., copy=False)` instead\n",
      "  df.set_axis(columns, axis=1, inplace=True)\n",
      "/var/folders/48/rl7zp3j908d304x4209n_knh0000gn/T/ipykernel_15386/1588186983.py:16: FutureWarning: The default value of regex will change from True to False in a future version.\n",
      "  df['clean_tweet'] = df['clean_tweet'].str.replace(\"[#]\", \" \")\n",
      "/var/folders/48/rl7zp3j908d304x4209n_knh0000gn/T/ipykernel_15386/1588186983.py:17: FutureWarning: The default value of regex will change from True to False in a future version.\n",
      "  df['clean_tweet'] = df['clean_tweet'].str.replace(\"[^a-zA-Z#]\", \" \")\n",
      "/var/folders/48/rl7zp3j908d304x4209n_knh0000gn/T/ipykernel_15386/1588186983.py:18: FutureWarning: The default value of regex will change from True to False in a future version.\n",
      "  df['clean_tweet'] = df['clean_tweet'].str.replace(\"[https?:\\/\\/.*[\\r\\n]*]\", \" \")\n",
      "/var/folders/48/rl7zp3j908d304x4209n_knh0000gn/T/ipykernel_15386/1588186983.py:11: FutureWarning: DataFrame.set_axis 'inplace' keyword is deprecated and will be removed in a future version. Use `obj = obj.set_axis(..., copy=False)` instead\n",
      "  df.set_axis(columns, axis=1, inplace=True)\n",
      "/var/folders/48/rl7zp3j908d304x4209n_knh0000gn/T/ipykernel_15386/1588186983.py:16: FutureWarning: The default value of regex will change from True to False in a future version.\n",
      "  df['clean_tweet'] = df['clean_tweet'].str.replace(\"[#]\", \" \")\n",
      "/var/folders/48/rl7zp3j908d304x4209n_knh0000gn/T/ipykernel_15386/1588186983.py:17: FutureWarning: The default value of regex will change from True to False in a future version.\n",
      "  df['clean_tweet'] = df['clean_tweet'].str.replace(\"[^a-zA-Z#]\", \" \")\n",
      "/var/folders/48/rl7zp3j908d304x4209n_knh0000gn/T/ipykernel_15386/1588186983.py:18: FutureWarning: The default value of regex will change from True to False in a future version.\n",
      "  df['clean_tweet'] = df['clean_tweet'].str.replace(\"[https?:\\/\\/.*[\\r\\n]*]\", \" \")\n",
      "/var/folders/48/rl7zp3j908d304x4209n_knh0000gn/T/ipykernel_15386/1588186983.py:11: FutureWarning: DataFrame.set_axis 'inplace' keyword is deprecated and will be removed in a future version. Use `obj = obj.set_axis(..., copy=False)` instead\n",
      "  df.set_axis(columns, axis=1, inplace=True)\n",
      "/var/folders/48/rl7zp3j908d304x4209n_knh0000gn/T/ipykernel_15386/1588186983.py:16: FutureWarning: The default value of regex will change from True to False in a future version.\n",
      "  df['clean_tweet'] = df['clean_tweet'].str.replace(\"[#]\", \" \")\n",
      "/var/folders/48/rl7zp3j908d304x4209n_knh0000gn/T/ipykernel_15386/1588186983.py:17: FutureWarning: The default value of regex will change from True to False in a future version.\n",
      "  df['clean_tweet'] = df['clean_tweet'].str.replace(\"[^a-zA-Z#]\", \" \")\n",
      "/var/folders/48/rl7zp3j908d304x4209n_knh0000gn/T/ipykernel_15386/1588186983.py:18: FutureWarning: The default value of regex will change from True to False in a future version.\n",
      "  df['clean_tweet'] = df['clean_tweet'].str.replace(\"[https?:\\/\\/.*[\\r\\n]*]\", \" \")\n",
      "/var/folders/48/rl7zp3j908d304x4209n_knh0000gn/T/ipykernel_15386/1588186983.py:11: FutureWarning: DataFrame.set_axis 'inplace' keyword is deprecated and will be removed in a future version. Use `obj = obj.set_axis(..., copy=False)` instead\n",
      "  df.set_axis(columns, axis=1, inplace=True)\n",
      "/var/folders/48/rl7zp3j908d304x4209n_knh0000gn/T/ipykernel_15386/1588186983.py:16: FutureWarning: The default value of regex will change from True to False in a future version.\n",
      "  df['clean_tweet'] = df['clean_tweet'].str.replace(\"[#]\", \" \")\n",
      "/var/folders/48/rl7zp3j908d304x4209n_knh0000gn/T/ipykernel_15386/1588186983.py:17: FutureWarning: The default value of regex will change from True to False in a future version.\n",
      "  df['clean_tweet'] = df['clean_tweet'].str.replace(\"[^a-zA-Z#]\", \" \")\n",
      "/var/folders/48/rl7zp3j908d304x4209n_knh0000gn/T/ipykernel_15386/1588186983.py:18: FutureWarning: The default value of regex will change from True to False in a future version.\n",
      "  df['clean_tweet'] = df['clean_tweet'].str.replace(\"[https?:\\/\\/.*[\\r\\n]*]\", \" \")\n",
      "/var/folders/48/rl7zp3j908d304x4209n_knh0000gn/T/ipykernel_15386/1588186983.py:11: FutureWarning: DataFrame.set_axis 'inplace' keyword is deprecated and will be removed in a future version. Use `obj = obj.set_axis(..., copy=False)` instead\n",
      "  df.set_axis(columns, axis=1, inplace=True)\n",
      "/var/folders/48/rl7zp3j908d304x4209n_knh0000gn/T/ipykernel_15386/1588186983.py:16: FutureWarning: The default value of regex will change from True to False in a future version.\n",
      "  df['clean_tweet'] = df['clean_tweet'].str.replace(\"[#]\", \" \")\n",
      "/var/folders/48/rl7zp3j908d304x4209n_knh0000gn/T/ipykernel_15386/1588186983.py:17: FutureWarning: The default value of regex will change from True to False in a future version.\n",
      "  df['clean_tweet'] = df['clean_tweet'].str.replace(\"[^a-zA-Z#]\", \" \")\n",
      "/var/folders/48/rl7zp3j908d304x4209n_knh0000gn/T/ipykernel_15386/1588186983.py:18: FutureWarning: The default value of regex will change from True to False in a future version.\n",
      "  df['clean_tweet'] = df['clean_tweet'].str.replace(\"[https?:\\/\\/.*[\\r\\n]*]\", \" \")\n",
      "/var/folders/48/rl7zp3j908d304x4209n_knh0000gn/T/ipykernel_15386/1588186983.py:11: FutureWarning: DataFrame.set_axis 'inplace' keyword is deprecated and will be removed in a future version. Use `obj = obj.set_axis(..., copy=False)` instead\n",
      "  df.set_axis(columns, axis=1, inplace=True)\n",
      "/var/folders/48/rl7zp3j908d304x4209n_knh0000gn/T/ipykernel_15386/1588186983.py:16: FutureWarning: The default value of regex will change from True to False in a future version.\n",
      "  df['clean_tweet'] = df['clean_tweet'].str.replace(\"[#]\", \" \")\n",
      "/var/folders/48/rl7zp3j908d304x4209n_knh0000gn/T/ipykernel_15386/1588186983.py:17: FutureWarning: The default value of regex will change from True to False in a future version.\n",
      "  df['clean_tweet'] = df['clean_tweet'].str.replace(\"[^a-zA-Z#]\", \" \")\n",
      "/var/folders/48/rl7zp3j908d304x4209n_knh0000gn/T/ipykernel_15386/1588186983.py:18: FutureWarning: The default value of regex will change from True to False in a future version.\n",
      "  df['clean_tweet'] = df['clean_tweet'].str.replace(\"[https?:\\/\\/.*[\\r\\n]*]\", \" \")\n"
     ]
    }
   ],
   "source": [
    "# --> Looping Throughout CSV's To Clean Data\n",
    "\n",
    "for csv in csv_names:\n",
    "    \n",
    "    # Reading CSV File and storing it In Pandas DataFrame\n",
    "    # --> Please Make Sure Reading From Same Directory\n",
    "    df = pd.read_csv(r'{}'.format(csv))\n",
    "    \n",
    "    # Insering Header in CSV-Files\n",
    "    columns = ['DateTime','Tweets']\n",
    "    df.set_axis(columns, axis=1, inplace=True)\n",
    "  \n",
    "    # Cleaning DataSet\n",
    "    \n",
    "    df['clean_tweet'] = np.vectorize(remove_pattern)(df['Tweets'].apply(str), \"@[\\w]*\")\n",
    "    df['clean_tweet'] = df['clean_tweet'].str.replace(\"[#]\", \" \")\n",
    "    df['clean_tweet'] = df['clean_tweet'].str.replace(\"[^a-zA-Z#]\", \" \")\n",
    "    df['clean_tweet'] = df['clean_tweet'].str.replace(\"[https?:\\/\\/.*[\\r\\n]*]\", \" \")\n",
    "    df['clean_tweet'] = df['clean_tweet'].apply(lambda x: ' '.join([w for w in x.split() if len(w)>3]))\n",
    "\n",
    "    # Finding Relative Polarity & Subjectivity\n",
    "    \n",
    "    polarity = lambda x: TextBlob(x).sentiment.polarity\n",
    "    subjectivity = lambda x: TextBlob(x).sentiment.subjectivity\n",
    "    df['polarity'] = df['clean_tweet'].apply(polarity)\n",
    "    df['subjectivity'] = df['clean_tweet'].apply(subjectivity)\n",
    "    df['sentiment_score'] = df['clean_tweet'].apply(polarity) * df['clean_tweet'].apply(subjectivity)\n",
    "    \n",
    "    # Saving Results to CSV Files\n",
    "    file_name = '{}_result.csv'.format(csv.split('.')[0])\n",
    "    export_csv=df.to_csv(file_name, index = False)\n",
    "    \n",
    "    \n"
   ]
  },
  {
   "cell_type": "code",
   "execution_count": 6,
   "metadata": {},
   "outputs": [],
   "source": [
    "# --> Data Pre-Processing Completed !!"
   ]
  }
 ],
 "metadata": {
  "kernelspec": {
   "display_name": "Python 3 (ipykernel)",
   "language": "python",
   "name": "python3"
  },
  "language_info": {
   "codemirror_mode": {
    "name": "ipython",
    "version": 3
   },
   "file_extension": ".py",
   "mimetype": "text/x-python",
   "name": "python",
   "nbconvert_exporter": "python",
   "pygments_lexer": "ipython3",
   "version": "3.11.1"
  }
 },
 "nbformat": 4,
 "nbformat_minor": 2
}
