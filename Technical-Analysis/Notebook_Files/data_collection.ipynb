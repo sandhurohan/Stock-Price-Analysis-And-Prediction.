{
 "cells": [
  {
   "cell_type": "markdown",
   "id": "70692385",
   "metadata": {},
   "source": [
    "# Collecting Data From NSE for Technical Analysis "
   ]
  },
  {
   "cell_type": "code",
   "execution_count": null,
   "id": "124d1226",
   "metadata": {},
   "outputs": [],
   "source": [
    "# --> Installing Necessary Modules\n",
    "\n",
    "!pip install yfinance\n"
   ]
  },
  {
   "cell_type": "code",
   "execution_count": null,
   "id": "91ef828a",
   "metadata": {},
   "outputs": [],
   "source": []
  },
  {
   "cell_type": "code",
   "execution_count": 25,
   "id": "6112869c",
   "metadata": {},
   "outputs": [],
   "source": [
    "# Importing Necessary Libraries \n",
    "\n",
    "import yfinance as yf\n",
    "import pandas as pd\n"
   ]
  },
  {
   "cell_type": "code",
   "execution_count": null,
   "id": "d01cea6f",
   "metadata": {},
   "outputs": [],
   "source": []
  },
  {
   "cell_type": "code",
   "execution_count": 28,
   "id": "17729e52",
   "metadata": {},
   "outputs": [
    {
     "name": "stdout",
     "output_type": "stream",
     "text": [
      "[*********************100%***********************]  1 of 1 completed\n",
      "[*********************100%***********************]  1 of 1 completed\n",
      "[*********************100%***********************]  1 of 1 completed\n",
      "[*********************100%***********************]  1 of 1 completed\n",
      "[*********************100%***********************]  1 of 1 completed\n",
      "[*********************100%***********************]  1 of 1 completed\n",
      "[*********************100%***********************]  1 of 1 completed\n"
     ]
    }
   ],
   "source": [
    "# Initializing Required Parameters For YFINANCE MODULE\n",
    "\n",
    "ticker_list = ['HDFCBANK.NS', 'HINDUNILVR.NS', 'ICICIBANK.NS', 'INFY.NS', 'KOTAKBANK.NS', 'RELIANCE.NS', 'TCS.NS']\n",
    "\n",
    "start = \"2013-01-01\" # Date Format: YYYY-MM-DD\n",
    "end = \"2023-05-30\" # Date Format: YYYY-MM-DD\n",
    "\n",
    "# Downloading Data From NSE & Saving Data To CSV.\n",
    "for ticker in ticker_list:\n",
    "    df = yf.download(ticker, start = start, end = end,  ignore_tz=True)\n",
    "    company_name = f\"{ticker.lower().split('.')[0]}.csv\"\n",
    "    df.to_csv(company_name)"
   ]
  },
  {
   "cell_type": "code",
   "execution_count": 27,
   "id": "ef32e6b6",
   "metadata": {},
   "outputs": [],
   "source": [
    "# --> Data Collection From NSE Completed."
   ]
  }
 ],
 "metadata": {
  "kernelspec": {
   "display_name": "Python 3 (ipykernel)",
   "language": "python",
   "name": "python3"
  },
  "language_info": {
   "codemirror_mode": {
    "name": "ipython",
    "version": 3
   },
   "file_extension": ".py",
   "mimetype": "text/x-python",
   "name": "python",
   "nbconvert_exporter": "python",
   "pygments_lexer": "ipython3",
   "version": "3.11.1"
  }
 },
 "nbformat": 4,
 "nbformat_minor": 5
}
